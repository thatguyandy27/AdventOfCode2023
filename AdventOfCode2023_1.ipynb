{
  "nbformat": 4,
  "nbformat_minor": 0,
  "metadata": {
    "colab": {
      "provenance": [],
      "toc_visible": true,
      "authorship_tag": "ABX9TyN1WA2iq6bEPDEdnbDpoGCp",
      "include_colab_link": true
    },
    "kernelspec": {
      "name": "python3",
      "display_name": "Python 3"
    },
    "language_info": {
      "name": "python"
    }
  },
  "cells": [
    {
      "cell_type": "markdown",
      "metadata": {
        "id": "view-in-github",
        "colab_type": "text"
      },
      "source": [
        "<a href=\"https://colab.research.google.com/github/thatguyandy27/AdventOfCode2023/blob/main/AdventOfCode2023_1.ipynb\" target=\"_parent\"><img src=\"https://colab.research.google.com/assets/colab-badge.svg\" alt=\"Open In Colab\"/></a>"
      ]
    },
    {
      "cell_type": "code",
      "execution_count": null,
      "metadata": {
        "id": "Zm4l0qspvMSZ"
      },
      "outputs": [],
      "source": [
        "def getData(file):\n",
        "  d = []\n",
        "  with open('data.data', encoding=\"utf-8\") as f:\n",
        "    for line in f:\n",
        "      d.append(line.replace('\\n', ''))\n",
        "\n",
        "  return d"
      ]
    },
    {
      "cell_type": "code",
      "source": [
        "lines = getData('data.data')\n",
        "print(lines[0])\n",
        "print(lines[-1])"
      ],
      "metadata": {
        "colab": {
          "base_uri": "https://localhost:8080/"
        },
        "id": "GI1SekKxvVm9",
        "outputId": "ceff5044-8191-4b6c-e9c5-102b802e669b"
      },
      "execution_count": null,
      "outputs": [
        {
          "output_type": "stream",
          "name": "stdout",
          "text": [
            "heightseven4two5\n",
            "trknlxnv43zxlrqjtwonect\n"
          ]
        }
      ]
    },
    {
      "cell_type": "code",
      "source": [
        "def getAnswer1(lines):\n",
        "  ans = 0\n",
        "  for line in lines:\n",
        "    num = 0\n",
        "    for c in line:\n",
        "      if c.isnumeric():\n",
        "        num = int(c) * 10\n",
        "        break\n",
        "    for i in range(len(line) -1, -1, -1):\n",
        "      c = line[i]\n",
        "      if c.isnumeric():\n",
        "        num += int(c)\n",
        "        break\n",
        "\n",
        "    ans += num\n",
        "\n",
        "  return ans\n",
        "\n"
      ],
      "metadata": {
        "id": "Cq2ME_fDwjny"
      },
      "execution_count": null,
      "outputs": []
    },
    {
      "cell_type": "code",
      "source": [
        "print(getAnswer1(lines))"
      ],
      "metadata": {
        "colab": {
          "base_uri": "https://localhost:8080/"
        },
        "id": "ae_1CHfVxdno",
        "outputId": "29f42993-c7e1-4bdf-e4bb-e2dc7af860ca"
      },
      "execution_count": null,
      "outputs": [
        {
          "output_type": "stream",
          "name": "stdout",
          "text": [
            "56049\n"
          ]
        }
      ]
    },
    {
      "cell_type": "code",
      "source": [
        "def isNum(i, line):\n",
        "  m = {'one': 1, 'two': 2, 'three': 3, 'four':4, 'five':5, 'six':6, 'seven': 7, 'eight':8, 'nine':9}\n",
        "\n",
        "  l = len(line) - i\n",
        "  for n in m:\n",
        "    d = len(n)\n",
        "    # print(n, line[i:i+d])\n",
        "    if l >= d and n == line[i:i+d]:\n",
        "      return True, m[n]\n",
        "\n",
        "  return False, -1"
      ],
      "metadata": {
        "id": "hh2pX5I6yCk0"
      },
      "execution_count": null,
      "outputs": []
    },
    {
      "cell_type": "code",
      "source": [
        "def getAnswer2(lines):\n",
        "  ans = 0\n",
        "  for line in lines:\n",
        "    ans += getAnswer2Single(line)\n",
        "\n",
        "  return ans\n",
        "\n",
        "\n",
        "def getAnswer2Single(line):\n",
        "    num = 0\n",
        "    for i in range(len(line)):\n",
        "      c = line[i]\n",
        "      if c.isnumeric():\n",
        "        num = int(c) * 10\n",
        "        break\n",
        "      is_text, n = isNum(i, line)\n",
        "      if is_text:\n",
        "        num = n * 10\n",
        "        break\n",
        "    for i in range(len(line) -1, -1, -1):\n",
        "      c = line[i]\n",
        "      if c.isnumeric():\n",
        "        num += int(c)\n",
        "        break\n",
        "      is_text, n = isNum(i, line)\n",
        "      if is_text:\n",
        "        num += n\n",
        "        break\n",
        "\n",
        "    return num"
      ],
      "metadata": {
        "id": "twtuOalVxf2a"
      },
      "execution_count": null,
      "outputs": []
    },
    {
      "cell_type": "code",
      "source": [
        "print(getAnswer2(lines))"
      ],
      "metadata": {
        "colab": {
          "base_uri": "https://localhost:8080/"
        },
        "id": "sYZbY-sAy7e-",
        "outputId": "ecc73231-ab1e-4c97-b1b1-bfc4c3264906"
      },
      "execution_count": null,
      "outputs": [
        {
          "output_type": "stream",
          "name": "stdout",
          "text": [
            "54530\n"
          ]
        }
      ]
    },
    {
      "cell_type": "code",
      "source": [
        "isNum(1, lines[0])"
      ],
      "metadata": {
        "colab": {
          "base_uri": "https://localhost:8080/"
        },
        "id": "31aEllrXzOql",
        "outputId": "0e26f8f7-202a-4b92-917c-48edcc22944e"
      },
      "execution_count": null,
      "outputs": [
        {
          "output_type": "stream",
          "name": "stdout",
          "text": [
            "one eig\n",
            "two eig\n",
            "three eight\n",
            "four eigh\n",
            "five eigh\n",
            "six eig\n",
            "seven eight\n",
            "eight eight\n"
          ]
        },
        {
          "output_type": "execute_result",
          "data": {
            "text/plain": [
              "(True, 8)"
            ]
          },
          "metadata": {},
          "execution_count": 51
        }
      ]
    },
    {
      "cell_type": "code",
      "source": [
        "dummy = ['two1nine',\n",
        "'eightwothree',\n",
        "'abcone2threexyz',\n",
        "'xtwone3four',\n",
        "'4nineeightseven2',\n",
        "'zoneight234',\n",
        "'7pqrstsixteen']"
      ],
      "metadata": {
        "id": "TbMImdJnzal2"
      },
      "execution_count": null,
      "outputs": []
    },
    {
      "cell_type": "code",
      "source": [
        "print(getAnswer2Single(dummy[0]))\n",
        "print(getAnswer2Single(dummy[1]))\n",
        "print(getAnswer2Single(dummy[2]))\n",
        "print(getAnswer2Single(dummy[3]))\n",
        "print(getAnswer2Single(dummy[4]))\n",
        "print(getAnswer2Single(dummy[5]))\n",
        "print(getAnswer2Single(dummy[6]))"
      ],
      "metadata": {
        "colab": {
          "base_uri": "https://localhost:8080/"
        },
        "id": "JXI_RQVUz8Ij",
        "outputId": "2091bf70-f27e-49cb-e6cd-c21b454532e8"
      },
      "execution_count": null,
      "outputs": [
        {
          "output_type": "stream",
          "name": "stdout",
          "text": [
            "29\n",
            "83\n",
            "13\n",
            "24\n",
            "42\n",
            "14\n",
            "76\n"
          ]
        }
      ]
    },
    {
      "cell_type": "code",
      "source": [
        "isNum(0, dummy[0])"
      ],
      "metadata": {
        "colab": {
          "base_uri": "https://localhost:8080/"
        },
        "id": "TA_EycVO0Aa1",
        "outputId": "a6a34af3-17fb-424f-a75f-48658c9694c8"
      },
      "execution_count": null,
      "outputs": [
        {
          "output_type": "stream",
          "name": "stdout",
          "text": [
            "one two\n",
            "two two\n"
          ]
        },
        {
          "output_type": "execute_result",
          "data": {
            "text/plain": [
              "(True, 2)"
            ]
          },
          "metadata": {},
          "execution_count": 43
        }
      ]
    },
    {
      "cell_type": "code",
      "source": [],
      "metadata": {
        "id": "zdl7pfgR0c9S"
      },
      "execution_count": null,
      "outputs": []
    }
  ]
}