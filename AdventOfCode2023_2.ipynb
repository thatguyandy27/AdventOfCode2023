{
  "nbformat": 4,
  "nbformat_minor": 0,
  "metadata": {
    "colab": {
      "provenance": [],
      "authorship_tag": "ABX9TyNpfWZdGJnWpkq1Xsvm+O4X",
      "include_colab_link": true
    },
    "kernelspec": {
      "name": "python3",
      "display_name": "Python 3"
    },
    "language_info": {
      "name": "python"
    }
  },
  "cells": [
    {
      "cell_type": "markdown",
      "metadata": {
        "id": "view-in-github",
        "colab_type": "text"
      },
      "source": [
        "<a href=\"https://colab.research.google.com/github/thatguyandy27/AdventOfCode2023/blob/main/AdventOfCode2023_2.ipynb\" target=\"_parent\"><img src=\"https://colab.research.google.com/assets/colab-badge.svg\" alt=\"Open In Colab\"/></a>"
      ]
    },
    {
      "cell_type": "code",
      "source": [
        "def parseRow(row):\n",
        "  # get rid of endline\n",
        "  line = row.replace('\\n', '')\n",
        "  # rgb\n",
        "  game = []\n",
        "  r = line.split(':')\n",
        "  pulls = r[-1].split(';')\n",
        "  for pull in pulls:\n",
        "    cubes = pull.split(',')\n",
        "    colors = (0, 0, 0)\n",
        "    for cube in cubes:\n",
        "      c = cube.strip().split(' ')\n",
        "      if c[-1] == 'red':\n",
        "        colors = (int(c[0]), colors[1], colors[2])\n",
        "      elif c[-1] == 'green':\n",
        "        colors = (colors[0], int(c[0]), colors[2])\n",
        "      elif c[-1] == 'blue':\n",
        "        colors = (colors[0], colors[1], int(c[0]))\n",
        "      else:\n",
        "        print('why?   ',  cube)\n",
        "    game.append(colors)\n",
        "\n",
        "  return game\n"
      ],
      "metadata": {
        "id": "eRPKKz5MI-PM"
      },
      "execution_count": null,
      "outputs": []
    },
    {
      "cell_type": "code",
      "execution_count": null,
      "metadata": {
        "id": "k3zymtZNIEg9"
      },
      "outputs": [],
      "source": [
        "def getData(file):\n",
        "  d = []\n",
        "  with open(file, encoding=\"utf-8\") as f:\n",
        "    for line in f:\n",
        "      d.append(parseRow(line))\n",
        "\n",
        "  return d"
      ]
    },
    {
      "cell_type": "code",
      "source": [
        "games = getData('day2.data')"
      ],
      "metadata": {
        "id": "asGXzhRwKbg2"
      },
      "execution_count": null,
      "outputs": []
    },
    {
      "cell_type": "code",
      "source": [
        "games[0]"
      ],
      "metadata": {
        "colab": {
          "base_uri": "https://localhost:8080/"
        },
        "id": "Txb61shHKf5x",
        "outputId": "9a67b11c-738d-40ee-f618-ef168a34f87f"
      },
      "execution_count": null,
      "outputs": [
        {
          "output_type": "execute_result",
          "data": {
            "text/plain": [
              "[(10, 7, 3), (4, 4, 0), (5, 1, 7), (10, 0, 8), (19, 1, 7)]"
            ]
          },
          "metadata": {},
          "execution_count": 14
        }
      ]
    },
    {
      "cell_type": "code",
      "source": [
        "games[-1]"
      ],
      "metadata": {
        "colab": {
          "base_uri": "https://localhost:8080/"
        },
        "id": "d6PuVYCfLAA0",
        "outputId": "a3a75da4-ba2a-4865-a7b9-4e3ee3d1aac2"
      },
      "execution_count": null,
      "outputs": [
        {
          "output_type": "execute_result",
          "data": {
            "text/plain": [
              "[(0, 9, 7), (3, 1, 4), (15, 9, 0), (6, 13, 3), (2, 12, 11)]"
            ]
          },
          "metadata": {},
          "execution_count": 15
        }
      ]
    },
    {
      "cell_type": "code",
      "source": [
        "def getAnswer1(games):\n",
        "  limits = (12, 13, 14)\n",
        "  total = 0\n",
        "  for i in range(len(games)):\n",
        "    id = i + 1\n",
        "    game = games[i]\n",
        "    valid = True\n",
        "    for pull in game:\n",
        "      for i in range(3):\n",
        "        if pull[i] > limits[i]:\n",
        "          valid = False\n",
        "          break\n",
        "    if valid:\n",
        "      total += id\n",
        "\n",
        "  return total\n",
        "\n"
      ],
      "metadata": {
        "id": "JnEbvhiTLGy7"
      },
      "execution_count": null,
      "outputs": []
    },
    {
      "cell_type": "code",
      "source": [
        "ans = getAnswer1(games)"
      ],
      "metadata": {
        "id": "oIf4d6QULnGy"
      },
      "execution_count": null,
      "outputs": []
    },
    {
      "cell_type": "code",
      "source": [
        "print(ans)"
      ],
      "metadata": {
        "colab": {
          "base_uri": "https://localhost:8080/"
        },
        "id": "jK6dO3GGLp8_",
        "outputId": "6c946469-fbb4-4946-94c6-d810f6cedcb9"
      },
      "execution_count": null,
      "outputs": [
        {
          "output_type": "stream",
          "name": "stdout",
          "text": [
            "2162\n"
          ]
        }
      ]
    },
    {
      "cell_type": "code",
      "source": [
        "def getAnswer2(games):\n",
        "  total = 0\n",
        "  for i in range(len(games)):\n",
        "    game = games[i]\n",
        "    mins = game[0]\n",
        "    for pull in game:\n",
        "      mins = (max(pull[0], mins[0]), max(pull[1], mins[1]),max(pull[2], mins[2]))\n",
        "\n",
        "    total += (mins[0] * mins[1] * mins[2])\n",
        "\n",
        "  return total\n",
        "\n"
      ],
      "metadata": {
        "id": "rkG35QGALqxw"
      },
      "execution_count": null,
      "outputs": []
    },
    {
      "cell_type": "code",
      "source": [
        "ans2 = getAnswer2(games)\n",
        "print(ans2)"
      ],
      "metadata": {
        "id": "hvVqKUYtMeHZ",
        "outputId": "a097d741-08e0-4eb8-c3ad-70f74d8d6dec",
        "colab": {
          "base_uri": "https://localhost:8080/"
        }
      },
      "execution_count": null,
      "outputs": [
        {
          "output_type": "stream",
          "name": "stdout",
          "text": [
            "72513\n"
          ]
        }
      ]
    },
    {
      "cell_type": "code",
      "source": [],
      "metadata": {
        "id": "SS3H7dgaMgr2"
      },
      "execution_count": null,
      "outputs": []
    }
  ]
}