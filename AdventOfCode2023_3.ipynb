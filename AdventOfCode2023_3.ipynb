{
  "nbformat": 4,
  "nbformat_minor": 0,
  "metadata": {
    "colab": {
      "provenance": [],
      "authorship_tag": "ABX9TyPke3vz2Qvn29V6XUFN3Feg",
      "include_colab_link": true
    },
    "kernelspec": {
      "name": "python3",
      "display_name": "Python 3"
    },
    "language_info": {
      "name": "python"
    }
  },
  "cells": [
    {
      "cell_type": "markdown",
      "metadata": {
        "id": "view-in-github",
        "colab_type": "text"
      },
      "source": [
        "<a href=\"https://colab.research.google.com/github/thatguyandy27/AdventOfCode2023/blob/main/AdventOfCode2023_3.ipynb\" target=\"_parent\"><img src=\"https://colab.research.google.com/assets/colab-badge.svg\" alt=\"Open In Colab\"/></a>"
      ]
    },
    {
      "cell_type": "code",
      "execution_count": 1,
      "metadata": {
        "id": "6EdXSZ3Wf3Ws"
      },
      "outputs": [],
      "source": [
        "def getData(file):\n",
        "  d = []\n",
        "  with open(file, encoding=\"utf-8\") as f:\n",
        "    for line in f:\n",
        "      d.append(line.replace('\\n', ''))\n",
        "\n",
        "  return d"
      ]
    },
    {
      "cell_type": "code",
      "source": [
        "data = getData('file3.data')"
      ],
      "metadata": {
        "id": "j7QZt6OtgFCd"
      },
      "execution_count": 2,
      "outputs": []
    },
    {
      "cell_type": "code",
      "source": [
        "def findChars(data):\n",
        "  s = set()\n",
        "  for i in range(len(data)):\n",
        "    for j in range(len(data[i])):\n",
        "      if data[i][j] != '.' and not data[i][j].isnumeric():\n",
        "        s.add((i, j))\n",
        "\n",
        "  return s"
      ],
      "metadata": {
        "id": "Im_XqNbKgFo0"
      },
      "execution_count": 4,
      "outputs": []
    },
    {
      "cell_type": "code",
      "source": [
        "char_set = findChars(data)"
      ],
      "metadata": {
        "id": "77Er_Xrogt1c"
      },
      "execution_count": 5,
      "outputs": []
    },
    {
      "cell_type": "code",
      "source": [
        "i = 0\n",
        "for c in char_set:\n",
        "  print(c)\n",
        "  i+= 1\n",
        "  if i == 10:\n",
        "    break"
      ],
      "metadata": {
        "colab": {
          "base_uri": "https://localhost:8080/"
        },
        "id": "PiR4I4aPgzmK",
        "outputId": "22d2d9cc-646c-42e7-f654-fa1cc58c3405"
      },
      "execution_count": 6,
      "outputs": [
        {
          "output_type": "stream",
          "name": "stdout",
          "text": [
            "(15, 30)\n",
            "(67, 68)\n",
            "(7, 26)\n",
            "(35, 115)\n",
            "(19, 9)\n",
            "(94, 12)\n",
            "(17, 76)\n",
            "(28, 76)\n",
            "(21, 37)\n",
            "(29, 50)\n"
          ]
        }
      ]
    },
    {
      "cell_type": "code",
      "source": [
        "def getAnswer(data, char_set):\n",
        "  ans = 0\n",
        "  curr_num = 0\n",
        "  valid = False\n",
        "\n",
        "  for i in range(len(data)):\n",
        "    # check if any from previous row\n",
        "    if valid:\n",
        "        ans += curr_num\n",
        "    curr_num = 0\n",
        "    valid = False\n",
        "\n",
        "    for j in range(len(data[i])):\n",
        "      # if numeric then increase by 10 and add\n",
        "      if data[i][j].isnumeric():\n",
        "        curr_num *= 10\n",
        "        curr_num += int(data[i][j])\n",
        "        # check if valid in neighbors\n",
        "        if not valid:\n",
        "          for x in range(-1,2):\n",
        "            for y in range(-1, 2):\n",
        "              pt = (i + x, j + y)\n",
        "              if pt in char_set:\n",
        "                valid = True\n",
        "      # if not numeric anymore then reset\n",
        "      else:\n",
        "        if valid:\n",
        "          ans += curr_num\n",
        "        curr_num = 0\n",
        "        valid = False\n",
        "\n",
        "\n",
        "  return ans\n"
      ],
      "metadata": {
        "id": "PJL1noy8g7vJ"
      },
      "execution_count": 7,
      "outputs": []
    },
    {
      "cell_type": "code",
      "source": [
        "ans1 = getAnswer(data, char_set)\n",
        "print(ans1)"
      ],
      "metadata": {
        "colab": {
          "base_uri": "https://localhost:8080/"
        },
        "id": "KeLjBYKriqFe",
        "outputId": "837b2764-632e-4076-94e7-5f8c783cd629"
      },
      "execution_count": 8,
      "outputs": [
        {
          "output_type": "stream",
          "name": "stdout",
          "text": [
            "530849\n"
          ]
        }
      ]
    },
    {
      "cell_type": "code",
      "source": [
        "def findPotentialGears(data):\n",
        "  s = set()\n",
        "  for i in range(len(data)):\n",
        "    for j in range(len(data[i])):\n",
        "      if data[i][j] == '*':\n",
        "        s.add((i, j))\n",
        "\n",
        "  return s"
      ],
      "metadata": {
        "id": "k6PfC9_Jitxy"
      },
      "execution_count": 9,
      "outputs": []
    },
    {
      "cell_type": "code",
      "source": [
        "potential_gears = findPotentialGears(data)\n",
        "i = 0\n",
        "for g in potential_gears:\n",
        "  print(g)\n",
        "  i+= 1\n",
        "  if i == 10:\n",
        "    break"
      ],
      "metadata": {
        "colab": {
          "base_uri": "https://localhost:8080/"
        },
        "id": "l4fpPot6jMAy",
        "outputId": "b3ac0c86-255b-49da-8c10-1f749a90fe8d"
      },
      "execution_count": 11,
      "outputs": [
        {
          "output_type": "stream",
          "name": "stdout",
          "text": [
            "(15, 30)\n",
            "(7, 26)\n",
            "(35, 115)\n",
            "(19, 9)\n",
            "(28, 76)\n",
            "(21, 37)\n",
            "(29, 50)\n",
            "(52, 24)\n",
            "(83, 39)\n",
            "(30, 112)\n"
          ]
        }
      ]
    },
    {
      "cell_type": "code",
      "source": [
        "def getNumber(data, x, y):\n",
        "  j_start = y\n",
        "  while j_start > 0:\n",
        "    if data[x][j_start - 1].isnumeric():\n",
        "      j_start -= 1\n",
        "    else:\n",
        "      break\n",
        "\n",
        "  j_end = y\n",
        "  while j_end < len(data[0]) - 1:\n",
        "    if data[x][j_end + 1].isnumeric():\n",
        "      j_end += 1\n",
        "    else:\n",
        "      break\n",
        "\n",
        "  num = int(''.join(data[x][j_start:j_end + 1]))\n",
        "  return num, (x, j_start)\n",
        "\n",
        "def findGearParts(data, potential_gears):\n",
        "  ans = 0\n",
        "\n",
        "  for gear in potential_gears:\n",
        "    i, j = gear[0], gear[1]\n",
        "    gear_nums = []\n",
        "    visited = set()\n",
        "    # loop through neighbors\n",
        "    for x in range(-1,2):\n",
        "      for y in range(-1, 2):\n",
        "        pt = (i + x, j + y)\n",
        "\n",
        "        # if number find the start and add it\n",
        "        if data[pt[0]][pt[1]].isnumeric():\n",
        "          num, start = getNumber(data, pt[0], pt[1])\n",
        "          if start in visited:\n",
        "            continue\n",
        "          visited.add(start)\n",
        "          gear_nums.append(num)\n",
        "\n",
        "    if len(gear_nums) == 2:\n",
        "      ans += gear_nums[0] * gear_nums[1]\n",
        "\n",
        "\n",
        "  return ans\n"
      ],
      "metadata": {
        "id": "fE9oG0qKjR7N"
      },
      "execution_count": 28,
      "outputs": []
    },
    {
      "cell_type": "code",
      "source": [
        "test_schematic = [\n",
        "    ['4','6','7','.','.','1','1','4','.','.'],\n",
        "    ['.','.','.','*','.','.','.','.','.','.'],\n",
        "    ['.','.','3','5','.','.','6','3','3','.'],\n",
        "    ['.','.','.','.','.','.','#','.','.','.'],\n",
        "    ['6','1','7','*','.','.','.','.','.','.'],\n",
        "    ['.','.','.','.','.','+','.','5','8','.'],\n",
        "    ['.','.','5','9','2','.','.','.','.','.'],\n",
        "    ['.','.','.','.','.','.','7','5','5','.'],\n",
        "    ['.','.','.','$','.','*','.','.','.','.'],\n",
        "    ['.','6','6','4','.','5','9','8','.','.']]"
      ],
      "metadata": {
        "id": "Pv3IZr_ErLkn"
      },
      "execution_count": 14,
      "outputs": []
    },
    {
      "cell_type": "code",
      "source": [
        "test_gears = findPotentialGears(test_schematic)\n",
        "i = 0\n",
        "for g in test_gears:\n",
        "  print(g)\n",
        "  i+= 1\n",
        "  if i == 10:\n",
        "    break"
      ],
      "metadata": {
        "colab": {
          "base_uri": "https://localhost:8080/"
        },
        "id": "GjDxxMlkrh3N",
        "outputId": "06b1353e-8b4f-4d3b-f833-a50d18116379"
      },
      "execution_count": 16,
      "outputs": [
        {
          "output_type": "stream",
          "name": "stdout",
          "text": [
            "(1, 3)\n",
            "(8, 5)\n",
            "(4, 3)\n"
          ]
        }
      ]
    },
    {
      "cell_type": "code",
      "source": [
        "potential_gears = findPotentialGears(data)\n",
        "ans2 = findGearParts(data, potential_gears)\n",
        "print(ans2)"
      ],
      "metadata": {
        "colab": {
          "base_uri": "https://localhost:8080/"
        },
        "id": "woOazjcurqfE",
        "outputId": "84da7ea7-df1a-4085-ca7b-946c3eba3c35"
      },
      "execution_count": 29,
      "outputs": [
        {
          "output_type": "stream",
          "name": "stdout",
          "text": [
            "84900879\n"
          ]
        }
      ]
    },
    {
      "cell_type": "code",
      "source": [
        "ans = findGearParts(test_schematic, test_gears)\n",
        "print(ans)"
      ],
      "metadata": {
        "id": "ghCTGzsLrzkr"
      },
      "execution_count": null,
      "outputs": []
    }
  ]
}