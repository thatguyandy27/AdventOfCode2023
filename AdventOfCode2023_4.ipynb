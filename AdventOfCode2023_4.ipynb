{
  "nbformat": 4,
  "nbformat_minor": 0,
  "metadata": {
    "colab": {
      "provenance": [],
      "authorship_tag": "ABX9TyPZzIpmHyOAPD8y8dewm450",
      "include_colab_link": true
    },
    "kernelspec": {
      "name": "python3",
      "display_name": "Python 3"
    },
    "language_info": {
      "name": "python"
    }
  },
  "cells": [
    {
      "cell_type": "markdown",
      "metadata": {
        "id": "view-in-github",
        "colab_type": "text"
      },
      "source": [
        "<a href=\"https://colab.research.google.com/github/thatguyandy27/AdventOfCode2023/blob/main/AdventOfCode2023_4.ipynb\" target=\"_parent\"><img src=\"https://colab.research.google.com/assets/colab-badge.svg\" alt=\"Open In Colab\"/></a>"
      ]
    },
    {
      "cell_type": "code",
      "execution_count": 1,
      "metadata": {
        "id": "FywwGK3yuSeC"
      },
      "outputs": [],
      "source": [
        "def getData(file):\n",
        "  d = []\n",
        "  with open(file, encoding=\"utf-8\") as f:\n",
        "    for line in f:\n",
        "      l = line.replace('\\n', '').split('|')\n",
        "      numsl = set()\n",
        "      numsr = set()\n",
        "      left = l[0].split(' ')\n",
        "      right = l[1].split(' ')\n",
        "\n",
        "      for s in left:\n",
        "        if s.isnumeric():\n",
        "          numsl.add(int(s))\n",
        "      for s in right:\n",
        "        if s.isnumeric():\n",
        "          numsr.add(int(s))\n",
        "\n",
        "      d.append([numsl, numsr])\n",
        "\n",
        "  return d"
      ]
    },
    {
      "cell_type": "code",
      "source": [
        "data = getData('day4.data')"
      ],
      "metadata": {
        "id": "1TGeVDOcX4Dv"
      },
      "execution_count": 2,
      "outputs": []
    },
    {
      "cell_type": "code",
      "source": [
        "data[0]"
      ],
      "metadata": {
        "colab": {
          "base_uri": "https://localhost:8080/"
        },
        "id": "O4Om_PzIX7Kc",
        "outputId": "c66b2f7a-60da-4325-9e2f-5e13f24fe186"
      },
      "execution_count": 3,
      "outputs": [
        {
          "output_type": "execute_result",
          "data": {
            "text/plain": [
              "[{8, 24, 31, 57, 60, 70, 73, 74, 91, 99},\n",
              " {2,\n",
              "  3,\n",
              "  8,\n",
              "  24,\n",
              "  25,\n",
              "  27,\n",
              "  30,\n",
              "  31,\n",
              "  37,\n",
              "  39,\n",
              "  43,\n",
              "  49,\n",
              "  57,\n",
              "  60,\n",
              "  62,\n",
              "  64,\n",
              "  70,\n",
              "  73,\n",
              "  74,\n",
              "  83,\n",
              "  87,\n",
              "  89,\n",
              "  90,\n",
              "  91,\n",
              "  99}]"
            ]
          },
          "metadata": {},
          "execution_count": 3
        }
      ]
    },
    {
      "cell_type": "code",
      "source": [
        "def getPoints(data):\n",
        "  pts = 0\n",
        "\n",
        "  for ticket in data:\n",
        "    win, card = ticket[0], ticket[1]\n",
        "\n",
        "    win_count = 0\n",
        "    for num in card:\n",
        "      if num in win:\n",
        "        win_count += 1\n",
        "\n",
        "    if win_count > 0:\n",
        "      pts += (2 ** (win_count-1))\n",
        "\n",
        "  return pts"
      ],
      "metadata": {
        "id": "G5_tzWxHX70M"
      },
      "execution_count": 4,
      "outputs": []
    },
    {
      "cell_type": "code",
      "source": [
        "pts = getPoints(data)\n",
        "print(pts)"
      ],
      "metadata": {
        "colab": {
          "base_uri": "https://localhost:8080/"
        },
        "id": "Mj-iww2qY2aE",
        "outputId": "43ddf8a8-28f5-4c14-a6f7-5e36b8e4560c"
      },
      "execution_count": 6,
      "outputs": [
        {
          "output_type": "stream",
          "name": "stdout",
          "text": [
            "20855\n"
          ]
        }
      ]
    },
    {
      "cell_type": "code",
      "source": [
        "def getCardCount(data):\n",
        "  n = len(data)\n",
        "  cards = [1] * n\n",
        "\n",
        "  for i in range(n):\n",
        "    ticket= data[i]\n",
        "    win, card = ticket[0], ticket[1]\n",
        "\n",
        "    win_count = 0\n",
        "    for num in card:\n",
        "      if num in win:\n",
        "        win_count += 1\n",
        "\n",
        "    for j in range(i + 1, min(n, i +win_count + 1)):\n",
        "      cards[j] += cards[i]\n",
        "\n",
        "  # print(cards)\n",
        "  return sum(cards)"
      ],
      "metadata": {
        "id": "pYg-TxGJY4iv"
      },
      "execution_count": 17,
      "outputs": []
    },
    {
      "cell_type": "code",
      "source": [
        "cards = getCardCount(data)\n",
        "print(cards)"
      ],
      "metadata": {
        "colab": {
          "base_uri": "https://localhost:8080/"
        },
        "id": "eHDGNkSBaSMj",
        "outputId": "6ded568e-3dc9-458e-b4ac-250f4fa70f52"
      },
      "execution_count": 18,
      "outputs": [
        {
          "output_type": "stream",
          "name": "stdout",
          "text": [
            "5489600\n"
          ]
        }
      ]
    },
    {
      "cell_type": "code",
      "source": [
        "test_data = getData('mock.data')\n",
        "print(test_data[0])"
      ],
      "metadata": {
        "colab": {
          "base_uri": "https://localhost:8080/"
        },
        "id": "tysRAvIqaU7m",
        "outputId": "e41ac0e5-5d1c-4afa-a016-3c3d2a1f5d62"
      },
      "execution_count": 11,
      "outputs": [
        {
          "output_type": "stream",
          "name": "stdout",
          "text": [
            "[{41, 48, 17, 83, 86}, {6, 9, 48, 17, 83, 53, 86, 31}]\n"
          ]
        }
      ]
    },
    {
      "cell_type": "code",
      "source": [
        "cards = getCardCount(test_data)\n",
        "print(cards)"
      ],
      "metadata": {
        "colab": {
          "base_uri": "https://localhost:8080/"
        },
        "id": "cAfUK59Ga0WC",
        "outputId": "7bb5c28a-e365-4570-b899-f7ed8509f4e4"
      },
      "execution_count": 16,
      "outputs": [
        {
          "output_type": "stream",
          "name": "stdout",
          "text": [
            "[1, 2, 4, 8, 14, 1]\n",
            "30\n"
          ]
        }
      ]
    },
    {
      "cell_type": "code",
      "source": [],
      "metadata": {
        "id": "S_pLEOTca2_d"
      },
      "execution_count": null,
      "outputs": []
    }
  ]
}